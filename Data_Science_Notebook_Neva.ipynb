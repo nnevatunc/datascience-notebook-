{
 "cells": [
  {
   "cell_type": "markdown",
   "id": "b088b53a",
   "metadata": {},
   "source": [
    "# Data Science Notebook"
   ]
  },
  {
   "cell_type": "markdown",
   "id": "1dec8784",
   "metadata": {},
   "source": [
    "This is a notebook created as part of a Coursera assignment. It demonstrates basic Markdown formatting and Python code execution."
   ]
  },
  {
   "cell_type": "markdown",
   "id": "6d478999",
   "metadata": {},
   "source": [
    "## Popular Data Science Languages:\n",
    "- Python\n",
    "- R\n",
    "- SQL\n",
    "- Java\n",
    "- Julia\n",
    "- Scala"
   ]
  },
  {
   "cell_type": "markdown",
   "id": "d877697b",
   "metadata": {},
   "source": [
    "## Data Science Libraries:\n",
    "- NumPy\n",
    "- Pandas\n",
    "- Matplotlib\n",
    "- Scikit-learn\n",
    "- TensorFlow\n",
    "- Keras"
   ]
  },
  {
   "cell_type": "markdown",
   "id": "de4bd181",
   "metadata": {},
   "source": [
    "## Data Science Tools:\n",
    "\n",
    "| Tool           | Purpose                 |\n",
    "|----------------|-------------------------|\n",
    "| Jupyter        | Interactive coding      |\n",
    "| RStudio        | R language environment  |\n",
    "| Apache Spark   | Big data processing     |\n",
    "| VSCode         | Code editor             |"
   ]
  },
  {
   "cell_type": "markdown",
   "id": "43c6b9ad",
   "metadata": {},
   "source": [
    "Here is an example of an arithmetic expression in Python:"
   ]
  },
  {
   "cell_type": "code",
   "execution_count": null,
   "id": "c9dfe262",
   "metadata": {},
   "outputs": [],
   "source": [
    "(5 * 4) + 3"
   ]
  },
  {
   "cell_type": "code",
   "execution_count": null,
   "id": "6144019d",
   "metadata": {},
   "outputs": [],
   "source": [
    "minutes = 120\n",
    "hours = minutes / 60\n",
    "hours"
   ]
  },
  {
   "cell_type": "markdown",
   "id": "4ae7d1b2",
   "metadata": {},
   "source": [
    "## Objectives:\n",
    "- Learn Markdown formatting\n",
    "- Execute Python code\n",
    "- Share notebooks via GitHub"
   ]
  },
  {
   "cell_type": "markdown",
   "id": "04fb051c",
   "metadata": {},
   "source": [
    "**Author:** Nezaket Neva Tunç"
   ]
  },
  {
   "cell_type": "markdown",
   "id": "46723233",
   "metadata": {},
   "source": [
    "GitHub notebook link will be added here."
   ]
  },
  {
   "cell_type": "markdown",
   "id": "cf1699f6",
   "metadata": {},
   "source": [
    "### Screenshot\n",
    "_Insert screenshot of the notebook here_"
   ]
  }
 ],
 "metadata": {},
 "nbformat": 4,
 "nbformat_minor": 5
}
